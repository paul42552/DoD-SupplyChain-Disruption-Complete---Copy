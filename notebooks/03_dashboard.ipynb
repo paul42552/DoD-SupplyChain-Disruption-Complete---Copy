{
 "cells": [
  {
   "cell_type": "markdown",
   "id": "f267952d",
   "metadata": {},
   "source": [
    "# 03 — Interactive Dashboard (Plotly) — Integrated"
   ]
  },
  {
   "cell_type": "code",
   "execution_count": null,
   "id": "18ad741e",
   "metadata": {},
   "outputs": [],
   "source": [
    "# Ensure deps in active kernel\n",
    "import sys, subprocess, importlib\n",
    "def ensure(pkg):\n",
    "    try:\n",
    "        importlib.import_module(pkg)\n",
    "    except Exception:\n",
    "        subprocess.check_call([sys.executable, \"-m\", \"pip\", \"install\", pkg])\n",
    "ensure(\"pandas\"); ensure(\"plotly\")"
   ]
  },
  {
   "cell_type": "code",
   "execution_count": null,
   "id": "56485172",
   "metadata": {},
   "outputs": [],
   "source": [
    "import pandas as pd, plotly.express as px\n",
    "from pathlib import Path\n",
    "\n",
    "ROOT = Path.cwd()\n",
    "candidates = [ROOT.parent / \"data/processed/fpds_cleaned.csv\", ROOT / \"data/processed/fpds_cleaned.csv\"]\n",
    "csv_path = next((p for p in candidates if p.exists()), None)\n",
    "if csv_path is None:\n",
    "    raise FileNotFoundError(\"Run 01_cleaning_fpds.ipynb first to create the processed file.\")\n",
    "df = pd.read_csv(csv_path, parse_dates=[\"action_date\"])"
   ]
  },
  {
   "cell_type": "markdown",
   "id": "75c33b56",
   "metadata": {},
   "source": [
    "### Interactive — Contract Volume by Month"
   ]
  },
  {
   "cell_type": "code",
   "execution_count": null,
   "id": "4762fd48",
   "metadata": {},
   "outputs": [],
   "source": [
    "ts = df.groupby(\"year_month\").size().reset_index(name=\"contracts\").sort_values(\"year_month\")\n",
    "fig = px.line(ts, x=\"year_month\", y=\"contracts\", title=\"Contract Volume Over Time\")\n",
    "fig.update_layout(xaxis_title=\"Year-Month\", yaxis_title=\"Contracts\")\n",
    "fig.show()"
   ]
  },
  {
   "cell_type": "markdown",
   "id": "9a0241d2",
   "metadata": {},
   "source": [
    "### Interactive — Average Turnaround Time by Month (BTS)"
   ]
  },
  {
   "cell_type": "code",
   "execution_count": null,
   "id": "6e2ef5ca",
   "metadata": {},
   "outputs": [],
   "source": [
    "if {\"year_month\",\"average_turnaround_time\"}.issubset(df.columns):\n",
    "    tt = df.groupby(\"year_month\")[\"average_turnaround_time\"].mean().reset_index()\n",
    "    fig = px.line(tt, x=\"year_month\", y=\"average_turnaround_time\", title=\"Average Turnaround Time by Month (BTS)\")\n",
    "    fig.update_layout(xaxis_title=\"Year-Month\", yaxis_title=\"Hours\")\n",
    "    fig.show()"
   ]
  },
  {
   "cell_type": "markdown",
   "id": "79280c99",
   "metadata": {},
   "source": [
    "### Interactive — Contracts by State vs. Percent On-Time (BTS)"
   ]
  },
  {
   "cell_type": "code",
   "execution_count": null,
   "id": "644754ba",
   "metadata": {},
   "outputs": [],
   "source": [
    "if {\"state_usps\",\"percent_on_time\"}.issubset(df.columns):\n",
    "    by_state = df.groupby(\"state_usps\")[\"percent_on_time\"].mean().reset_index()\n",
    "    fig = px.bar(by_state, x=\"state_usps\", y=\"percent_on_time\", title=\"Average Percent On-Time by State (BTS)\")\n",
    "    fig.update_layout(xaxis_title=\"State\", yaxis_title=\"% On-Time\")\n",
    "    fig.show()"
   ]
  },
  {
   "cell_type": "markdown",
   "id": "81b5808c",
   "metadata": {},
   "source": [
    "### Interactive — Contracts by Sanctions Flag"
   ]
  },
  {
   "cell_type": "code",
   "execution_count": null,
   "id": "bc6e844c",
   "metadata": {},
   "outputs": [],
   "source": [
    "if \"sanctioned_vendor\" in df.columns:\n",
    "    vc = df[\"sanctioned_vendor\"].value_counts().reset_index()\n",
    "    vc.columns = [\"sanctioned_vendor\",\"contracts\"]\n",
    "    fig = px.bar(vc, x=\"sanctioned_vendor\", y=\"contracts\", title=\"Contracts by Sanctioned Vendor Flag\")\n",
    "    fig.update_layout(xaxis_title=\"Sanctioned Vendor\", yaxis_title=\"Contracts\")\n",
    "    fig.show()"
   ]
  }
 ],
 "metadata": {},
 "nbformat": 4,
 "nbformat_minor": 5
}
