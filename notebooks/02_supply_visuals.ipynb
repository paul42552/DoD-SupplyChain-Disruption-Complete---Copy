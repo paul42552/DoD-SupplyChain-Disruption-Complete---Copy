{
 "cells": [
  {
   "cell_type": "markdown",
   "id": "8be93a88",
   "metadata": {},
   "source": [
    "# 02 — Exploratory Visualizations (Static) — Integrated"
   ]
  },
  {
   "cell_type": "code",
   "execution_count": null,
   "id": "43990187",
   "metadata": {},
   "outputs": [],
   "source": [
    "# Ensure deps in active kernel\n",
    "import sys, subprocess, importlib\n",
    "def ensure(pkg):\n",
    "    try:\n",
    "        importlib.import_module(pkg)\n",
    "    except Exception:\n",
    "        subprocess.check_call([sys.executable, \"-m\", \"pip\", \"install\", pkg])\n",
    "ensure(\"pandas\"); ensure(\"matplotlib\")"
   ]
  },
  {
   "cell_type": "code",
   "execution_count": null,
   "id": "ca6ff4b5",
   "metadata": {},
   "outputs": [],
   "source": [
    "import pandas as pd, matplotlib.pyplot as plt\n",
    "from pathlib import Path\n",
    "\n",
    "# Load processed dataset\n",
    "ROOT = Path.cwd()\n",
    "candidates = [ROOT.parent / \"data/processed/fpds_cleaned.csv\", ROOT / \"data/processed/fpds_cleaned.csv\"]\n",
    "csv_path = next((p for p in candidates if p.exists()), None)\n",
    "if csv_path is None:\n",
    "    raise FileNotFoundError(\"Run 01_cleaning_fpds.ipynb first to create the processed file.\")\n",
    "df = pd.read_csv(csv_path, parse_dates=[\"action_date\"])\n",
    "print(\"[INFO] Loaded\", csv_path)"
   ]
  },
  {
   "cell_type": "markdown",
   "id": "08dfae37",
   "metadata": {},
   "source": [
    "### Chart 1 — Monthly Contract Volume"
   ]
  },
  {
   "cell_type": "code",
   "execution_count": null,
   "id": "3b65d79d",
   "metadata": {},
   "outputs": [],
   "source": [
    "cnt = df[\"year_month\"].value_counts().sort_index()\n",
    "plt.figure(figsize=(9,4))\n",
    "cnt.plot(kind=\"line\")\n",
    "plt.title(\"Monthly DoD Contract Volume\")\n",
    "plt.xlabel(\"Year-Month\")\n",
    "plt.ylabel(\"Count\")\n",
    "plt.tight_layout()\n",
    "plt.show()"
   ]
  },
  {
   "cell_type": "markdown",
   "id": "7e73fb82",
   "metadata": {},
   "source": [
    "### Chart 2 — Top Vendors by Count"
   ]
  },
  {
   "cell_type": "code",
   "execution_count": null,
   "id": "849d034f",
   "metadata": {},
   "outputs": [],
   "source": [
    "top = df[\"vendor_group\"].value_counts().head(10).sort_values()\n",
    "plt.figure(figsize=(7,4))\n",
    "top.plot(kind=\"barh\")\n",
    "plt.title(\"Top 10 Vendors by Contract Count\")\n",
    "plt.xlabel(\"Contracts\")\n",
    "plt.ylabel(\"Vendor\")\n",
    "plt.tight_layout()\n",
    "plt.show()"
   ]
  },
  {
   "cell_type": "markdown",
   "id": "b221f4da",
   "metadata": {},
   "source": [
    "### Chart 3 — Average Turnaround Time (BTS) by Month (Mean over States)"
   ]
  },
  {
   "cell_type": "code",
   "execution_count": null,
   "id": "82e66d5f",
   "metadata": {},
   "outputs": [],
   "source": [
    "if {\"average_turnaround_time\",\"year_month\"}.issubset(df.columns):\n",
    "    agg = df.groupby(\"year_month\")[\"average_turnaround_time\"].mean().dropna()\n",
    "    if not agg.empty:\n",
    "        plt.figure(figsize=(9,4))\n",
    "        agg.plot(kind=\"line\")\n",
    "        plt.title(\"Average Turnaround Time by Month (BTS)\")\n",
    "        plt.xlabel(\"Year-Month\")\n",
    "        plt.ylabel(\"Hours\")\n",
    "        plt.tight_layout()\n",
    "        plt.show()\n",
    "    else:\n",
    "        print(\"[INFO] No BTS turnaround values present.\")\n",
    "else:\n",
    "    print(\"[INFO] BTS columns not found; run 01_cleaning_fpds.ipynb.\")"
   ]
  },
  {
   "cell_type": "markdown",
   "id": "46561fb0",
   "metadata": {},
   "source": [
    "### Chart 4 — Contracts by Sanction Flag"
   ]
  },
  {
   "cell_type": "code",
   "execution_count": null,
   "id": "2544982d",
   "metadata": {},
   "outputs": [],
   "source": [
    "if \"sanctioned_vendor\" in df.columns:\n",
    "    vc = df[\"sanctioned_vendor\"].value_counts().sort_index()\n",
    "    plt.figure(figsize=(6,4))\n",
    "    vc.plot(kind=\"bar\")\n",
    "    plt.title(\"Contracts by Sanctioned Vendor Flag\")\n",
    "    plt.xlabel(\"Sanctioned Vendor (False/True)\")\n",
    "    plt.ylabel(\"Count\")\n",
    "    plt.tight_layout()\n",
    "    plt.show()\n",
    "else:\n",
    "    print(\"[INFO] Sanction columns not found; run 01_cleaning_fpds.ipynb.\")"
   ]
  }
 ],
 "metadata": {},
 "nbformat": 4,
 "nbformat_minor": 5
}
