{
 "cells": [
  {
   "cell_type": "markdown",
   "id": "e4caffe0",
   "metadata": {},
   "source": [
    "# 01 — Clean & Merge FPDS with BTS and OpenSanctions"
   ]
  },
  {
   "cell_type": "code",
   "execution_count": null,
   "id": "86970a71",
   "metadata": {},
   "outputs": [],
   "source": [
    "# Install missing packages into the ACTIVE kernel if needed\n",
    "import sys, subprocess, importlib\n",
    "def ensure(pkg, pip_name=None):\n",
    "    try:\n",
    "        importlib.import_module(pkg)\n",
    "    except Exception:\n",
    "        subprocess.check_call([sys.executable, \"-m\", \"pip\", \"install\", pip_name or pkg])\n",
    "for mod in [\"pandas\", \"numpy\"]:\n",
    "    ensure(mod)\n",
    "try:\n",
    "    importlib.import_module(\"rapidfuzz\")\n",
    "except Exception:\n",
    "    try:\n",
    "        ensure(\"rapidfuzz\")\n",
    "    except Exception:\n",
    "        ensure(\"fuzzywuzzy\"); ensure(\"python-Levenshtein\",\"python-Levenshtein\")\n",
    "print(\"[INFO] Dependencies are ready.\")"
   ]
  },
  {
   "cell_type": "code",
   "execution_count": null,
   "id": "139e6c58",
   "metadata": {},
   "outputs": [],
   "source": [
    "import pandas as pd, numpy as np, re\n",
    "from pathlib import Path\n",
    "from src.utils import find_project_root, ensure_dir, simple_vendor_normalize, clean_naics, to_usps_state\n",
    "\n",
    "# Prefer RapidFuzz; fallback to fuzzywuzzy\n",
    "try:\n",
    "    from rapidfuzz import process, fuzz\n",
    "except Exception:\n",
    "    from fuzzywuzzy import process, fuzz\n",
    "\n",
    "ROOT = find_project_root(Path.cwd())\n",
    "raw = ROOT / \"data\" / \"raw\"\n",
    "proc = ROOT / \"data\" / \"processed\"\n",
    "ensure_dir(proc)\n",
    "\n",
    "print(\"ROOT:\", ROOT)"
   ]
  },
  {
   "cell_type": "code",
   "execution_count": null,
   "id": "9eb3f4d1",
   "metadata": {},
   "outputs": [],
   "source": [
    "# ---- Load FPDS ----\n",
    "fpds_path = raw / \"fpds_contracts.csv\"\n",
    "if not fpds_path.exists():\n",
    "    raise FileNotFoundError(f\"Expected {fpds_path}\")\n",
    "\n",
    "fpds = pd.read_csv(fpds_path)\n",
    "# normalize column names\n",
    "fpds.columns = fpds.columns.str.strip().str.lower().str.replace(\" \",\"_\")\n",
    "# parse dates + add temporal parts\n",
    "fpds[\"action_date\"] = pd.to_datetime(fpds.get(\"action_date\"), errors=\"coerce\")\n",
    "fpds[\"year_month\"] = fpds[\"action_date\"].dt.to_period(\"M\").astype(str)\n",
    "# currency/numeric\n",
    "if \"dollar_obligated\" in fpds.columns:\n",
    "    fpds[\"dollar_obligated\"] = (\n",
    "        fpds[\"dollar_obligated\"].astype(str).str.replace(\",\", \"\", regex=False).str.strip().replace({\"\": np.nan})\n",
    "    )\n",
    "    fpds[\"dollar_obligated\"] = pd.to_numeric(fpds[\"dollar_obligated\"], errors=\"coerce\")\n",
    "# vendor & NAICS features\n",
    "fpds[\"vendor_group\"] = fpds.get(\"vendor_name\",\"\").apply(simple_vendor_normalize)\n",
    "fpds[\"naics_code_clean\"] = fpds.get(\"naics_code\",\"\").apply(clean_naics)\n",
    "fpds[\"naics_sector2\"] = fpds[\"naics_code_clean\"].str[:2]\n",
    "# location normalization\n",
    "fpds[\"place_of_performance_state\"] = fpds.get(\"place_of_performance_state\",\"\").astype(str).str.upper().str.strip()\n",
    "fpds[\"state_usps\"] = fpds[\"place_of_performance_state\"].apply(to_usps_state)\n",
    "\n",
    "fpds.head()"
   ]
  },
  {
   "cell_type": "code",
   "execution_count": null,
   "id": "7bf86b29",
   "metadata": {},
   "outputs": [],
   "source": [
    "# ---- Load BTS Port Performance ----\n",
    "bts_path = raw / \"bts_port_performance.csv\"\n",
    "if not bts_path.exists():\n",
    "    raise FileNotFoundError(f\"Expected {bts_path}\")\n",
    "\n",
    "bts = pd.read_csv(bts_path)\n",
    "bts.columns = bts.columns.str.strip().str.lower()\n",
    "# ensure string types that match FPDS year_month and USPS codes\n",
    "bts[\"year_month\"] = bts[\"year_month\"].astype(str)\n",
    "bts[\"state\"] = bts[\"state\"].astype(str).str.upper().str.strip()\n",
    "bts = bts[[\"year_month\",\"state\",\"average_turnaround_time\",\"percent_on_time\"]]\n",
    "bts.head()"
   ]
  },
  {
   "cell_type": "code",
   "execution_count": null,
   "id": "b587854f",
   "metadata": {},
   "outputs": [],
   "source": [
    "# ---- Merge FPDS + BTS on (state, year_month) ----\n",
    "merged = fpds.merge(\n",
    "    bts,\n",
    "    how=\"left\",\n",
    "    left_on=[\"state_usps\",\"year_month\"],\n",
    "    right_on=[\"state\",\"year_month\"],\n",
    "    suffixes=(\"\",\"_bts\")\n",
    ")\n",
    "merged.drop(columns=[\"state\"], inplace=True, errors=\"ignore\")\n",
    "print(merged[[\"vendor_group\",\"state_usps\",\"year_month\",\"average_turnaround_time\",\"percent_on_time\"]].head(6))"
   ]
  },
  {
   "cell_type": "code",
   "execution_count": null,
   "id": "89bd8ce9",
   "metadata": {},
   "outputs": [],
   "source": [
    "# ---- Load OpenSanctions and flag vendors via fuzzy match ----\n",
    "san_path = raw / \"opensanctions_vendors.csv\"\n",
    "if not san_path.exists():\n",
    "    raise FileNotFoundError(f\"Expected {san_path}\")\n",
    "\n",
    "san = pd.read_csv(san_path)\n",
    "san.columns = san.columns.str.strip().str.lower()\n",
    "san[\"entity_norm\"] = san[\"entity_name\"].apply(simple_vendor_normalize)\n",
    "\n",
    "# Build a set/list of unique normalized sanctioned entities\n",
    "sanction_list = san[\"entity_norm\"].dropna().unique().tolist()\n",
    "\n",
    "def fuzzy_flag(name: str, candidates, threshold=95):\n",
    "    if not isinstance(name, str) or not name:\n",
    "        return (0, \"\")\n",
    "    # use RapidFuzz if available (above import order ensures one exists)\n",
    "    match = process.extractOne(name, candidates, scorer=fuzz.WRatio)\n",
    "    if match is None:\n",
    "        return (0, \"\")\n",
    "    cand, score, _ = match if isinstance(match, tuple) and len(match) == 3 else (match[0], match[1], None)\n",
    "    return (int(score), cand if score >= threshold else \"\")\n",
    "\n",
    "merged[\"sanction_score\"], merged[\"sanction_match\"] = zip(*merged[\"vendor_group\"].map(lambda x: fuzzy_flag(x, sanction_list)))\n",
    "merged[\"sanctioned_vendor\"] = merged[\"sanction_score\"].ge(95)\n",
    "\n",
    "merged.head(8)"
   ]
  },
  {
   "cell_type": "code",
   "execution_count": null,
   "id": "6f91e9e5",
   "metadata": {},
   "outputs": [],
   "source": [
    "# ---- Save processed/enriched dataset ----\n",
    "out = proc / \"fpds_cleaned.csv\"  # keep same filename for downstream notebooks\n",
    "merged.to_csv(out, index=False)\n",
    "print(f\"[OK] wrote {out} with shape {merged.shape}\")"
   ]
  }
 ],
 "metadata": {},
 "nbformat": 4,
 "nbformat_minor": 5
}
