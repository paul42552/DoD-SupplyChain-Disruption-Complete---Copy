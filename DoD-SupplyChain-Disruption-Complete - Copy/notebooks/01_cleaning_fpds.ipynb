{
 "cells": [
  {
   "cell_type": "markdown",
   "id": "c1716cbd",
   "metadata": {},
   "source": [
    "# 01 — Cleaning FPDS Procurement Records"
   ]
  },
  {
   "cell_type": "code",
   "execution_count": 1,
   "id": "93c77756",
   "metadata": {},
   "outputs": [
    {
     "name": "stdout",
     "output_type": "stream",
     "text": [
      "[INFO] Dependencies are ready.\n"
     ]
    }
   ],
   "source": [
    "\n",
    "import sys, subprocess, importlib\n",
    "def ensure(pkg, pip_name=None):\n",
    "    try:\n",
    "        importlib.import_module(pkg)\n",
    "    except Exception:\n",
    "        subprocess.check_call([sys.executable, \"-m\", \"pip\", \"install\", pip_name or pkg])\n",
    "for mod in [\"pandas\", \"numpy\"]:\n",
    "    ensure(mod)\n",
    "try:\n",
    "    importlib.import_module(\"rapidfuzz\")\n",
    "except Exception:\n",
    "    try:\n",
    "        ensure(\"rapidfuzz\")\n",
    "    except Exception:\n",
    "        ensure(\"fuzzywuzzy\"); ensure(\"python-Levenshtein\",\"python-Levenshtein\")\n",
    "print(\"[INFO] Dependencies are ready.\")"
   ]
  },
  {
   "cell_type": "code",
   "execution_count": 2,
   "id": "20cfdbf2",
   "metadata": {},
   "outputs": [
    {
     "name": "stdout",
     "output_type": "stream",
     "text": [
      "[INFO] Project root: c:\\Users\\taylo\\OneDrive\\Desktop\\DoD-SupplyChain-Disruption-Complete - Copy\n",
      "[INFO] Python: 3.13.5 (tags/v3.13.5:6cb20a2, Jun 11 2025, 16:15:46) [MSC v.1943 64 bit (AMD64)]\n",
      "[INFO] Executable: c:\\Users\\taylo\\AppData\\Local\\Programs\\Python\\Python313\\python.exe\n"
     ]
    }
   ],
   "source": [
    "\n",
    "import sys, subprocess, importlib\n",
    "from pathlib import Path\n",
    "\n",
    "def ensure(pkg, pip_name=None):\n",
    "    try:\n",
    "        importlib.import_module(pkg)\n",
    "    except Exception:\n",
    "        subprocess.check_call([sys.executable, \"-m\", \"pip\", \"install\", pip_name or pkg])\n",
    "\n",
    "\n",
    "ensure(\"pandas\")\n",
    "ensure(\"numpy\")\n",
    "\n",
    "try:\n",
    "    importlib.import_module(\"rapidfuzz\")\n",
    "except Exception:\n",
    "    try:\n",
    "        ensure(\"rapidfuzz\")\n",
    "    except Exception:\n",
    "        ensure(\"fuzzywuzzy\")\n",
    "        ensure(\"python-Levenshtein\", \"python-Levenshtein\")\n",
    "\n",
    "\n",
    "ROOT = Path.cwd()\n",
    "\n",
    "if not (ROOT / \"src\").exists() and (ROOT.name.lower() == \"notebooks\") and (ROOT.parent / \"src\").exists():\n",
    "    ROOT = ROOT.parent\n",
    "\n",
    "p = ROOT\n",
    "while not (p / \"src\").exists() and p != p.parent:\n",
    "    p = p.parent\n",
    "ROOT = p\n",
    "sys.path.insert(0, str(ROOT))\n",
    "\n",
    "\n",
    "(src_dir := (ROOT / \"src\")).mkdir(parents=True, exist_ok=True)\n",
    "(src_dir / \"__init__.py\").touch(exist_ok=True)\n",
    "\n",
    "print(\"[INFO] Project root:\", ROOT)\n",
    "print(\"[INFO] Python:\", sys.version)\n",
    "print(\"[INFO] Executable:\", sys.executable)\n"
   ]
  },
  {
   "cell_type": "code",
   "execution_count": 3,
   "id": "935033f1",
   "metadata": {},
   "outputs": [
    {
     "name": "stdout",
     "output_type": "stream",
     "text": [
      "Pandas: 2.3.1\n"
     ]
    }
   ],
   "source": [
    "import pandas as pd, numpy as np, re\n",
    "from pathlib import Path\n",
    "from src.utils import find_project_root, simple_vendor_normalize, clean_naics, ensure_dir\n",
    "\n",
    "\n",
    "try:\n",
    "    from rapidfuzz import fuzz, process\n",
    "except Exception:\n",
    "    from fuzzywuzzy import fuzz, process\n",
    "\n",
    "print(\"Pandas:\", pd.__version__)"
   ]
  },
  {
   "cell_type": "code",
   "execution_count": 4,
   "id": "3c6d5416",
   "metadata": {},
   "outputs": [
    {
     "name": "stdout",
     "output_type": "stream",
     "text": [
      "[INFO] Using CSV at c:\\Users\\taylo\\OneDrive\\Desktop\\DoD-SupplyChain-Disruption-Complete - Copy\\data\\raw\\fpds_contracts.csv\n"
     ]
    },
    {
     "data": {
      "application/vnd.microsoft.datawrangler.viewer.v0+json": {
       "columns": [
        {
         "name": "index",
         "rawType": "int64",
         "type": "integer"
        },
        {
         "name": "contract_award_id",
         "rawType": "int64",
         "type": "integer"
        },
        {
         "name": "vendor_name",
         "rawType": "object",
         "type": "string"
        },
        {
         "name": "naics_code",
         "rawType": "int64",
         "type": "integer"
        },
        {
         "name": "product_or_service_code",
         "rawType": "int64",
         "type": "integer"
        },
        {
         "name": "action_date",
         "rawType": "object",
         "type": "string"
        },
        {
         "name": "dollar_obligated",
         "rawType": "int64",
         "type": "integer"
        },
        {
         "name": "place_of_performance_city",
         "rawType": "object",
         "type": "string"
        },
        {
         "name": "place_of_performance_state",
         "rawType": "object",
         "type": "string"
        },
        {
         "name": "place_of_performance_country",
         "rawType": "object",
         "type": "string"
        }
       ],
       "ref": "a19c7306-fab4-4e36-b7f3-4776117247ac",
       "rows": [
        [
         "0",
         "9000001",
         "Lockheed Martin Corp",
         "336413",
         "1510",
         "2021-01-10",
         "9500000",
         "Fort Worth",
         "TX",
         "USA"
        ],
        [
         "1",
         "9000002",
         "Boeing Co",
         "336413",
         "1510",
         "2021-07-20",
         "8400000",
         "Long Beach",
         "CA",
         "USA"
        ],
        [
         "2",
         "9000003",
         "Raytheon Technologies",
         "334111",
         "1510",
         "2022-02-05",
         "2500000",
         "Tucson",
         "AZ",
         "USA"
        ],
        [
         "3",
         "9000004",
         "LOCKHEED MARTIN CORPORATION",
         "336413",
         "1510",
         "2022-11-30",
         "12300000",
         "Fort Worth",
         "TX",
         "USA"
        ],
        [
         "4",
         "9000005",
         "BOEING COMPANY",
         "336413",
         "1510",
         "2023-03-12",
         "7800000",
         "San Diego",
         "CA",
         "USA"
        ]
       ],
       "shape": {
        "columns": 9,
        "rows": 5
       }
      },
      "text/html": [
       "<div>\n",
       "<style scoped>\n",
       "    .dataframe tbody tr th:only-of-type {\n",
       "        vertical-align: middle;\n",
       "    }\n",
       "\n",
       "    .dataframe tbody tr th {\n",
       "        vertical-align: top;\n",
       "    }\n",
       "\n",
       "    .dataframe thead th {\n",
       "        text-align: right;\n",
       "    }\n",
       "</style>\n",
       "<table border=\"1\" class=\"dataframe\">\n",
       "  <thead>\n",
       "    <tr style=\"text-align: right;\">\n",
       "      <th></th>\n",
       "      <th>contract_award_id</th>\n",
       "      <th>vendor_name</th>\n",
       "      <th>naics_code</th>\n",
       "      <th>product_or_service_code</th>\n",
       "      <th>action_date</th>\n",
       "      <th>dollar_obligated</th>\n",
       "      <th>place_of_performance_city</th>\n",
       "      <th>place_of_performance_state</th>\n",
       "      <th>place_of_performance_country</th>\n",
       "    </tr>\n",
       "  </thead>\n",
       "  <tbody>\n",
       "    <tr>\n",
       "      <th>0</th>\n",
       "      <td>9000001</td>\n",
       "      <td>Lockheed Martin Corp</td>\n",
       "      <td>336413</td>\n",
       "      <td>1510</td>\n",
       "      <td>2021-01-10</td>\n",
       "      <td>9500000</td>\n",
       "      <td>Fort Worth</td>\n",
       "      <td>TX</td>\n",
       "      <td>USA</td>\n",
       "    </tr>\n",
       "    <tr>\n",
       "      <th>1</th>\n",
       "      <td>9000002</td>\n",
       "      <td>Boeing Co</td>\n",
       "      <td>336413</td>\n",
       "      <td>1510</td>\n",
       "      <td>2021-07-20</td>\n",
       "      <td>8400000</td>\n",
       "      <td>Long Beach</td>\n",
       "      <td>CA</td>\n",
       "      <td>USA</td>\n",
       "    </tr>\n",
       "    <tr>\n",
       "      <th>2</th>\n",
       "      <td>9000003</td>\n",
       "      <td>Raytheon Technologies</td>\n",
       "      <td>334111</td>\n",
       "      <td>1510</td>\n",
       "      <td>2022-02-05</td>\n",
       "      <td>2500000</td>\n",
       "      <td>Tucson</td>\n",
       "      <td>AZ</td>\n",
       "      <td>USA</td>\n",
       "    </tr>\n",
       "    <tr>\n",
       "      <th>3</th>\n",
       "      <td>9000004</td>\n",
       "      <td>LOCKHEED MARTIN CORPORATION</td>\n",
       "      <td>336413</td>\n",
       "      <td>1510</td>\n",
       "      <td>2022-11-30</td>\n",
       "      <td>12300000</td>\n",
       "      <td>Fort Worth</td>\n",
       "      <td>TX</td>\n",
       "      <td>USA</td>\n",
       "    </tr>\n",
       "    <tr>\n",
       "      <th>4</th>\n",
       "      <td>9000005</td>\n",
       "      <td>BOEING COMPANY</td>\n",
       "      <td>336413</td>\n",
       "      <td>1510</td>\n",
       "      <td>2023-03-12</td>\n",
       "      <td>7800000</td>\n",
       "      <td>San Diego</td>\n",
       "      <td>CA</td>\n",
       "      <td>USA</td>\n",
       "    </tr>\n",
       "  </tbody>\n",
       "</table>\n",
       "</div>"
      ],
      "text/plain": [
       "   contract_award_id                  vendor_name  naics_code  \\\n",
       "0            9000001         Lockheed Martin Corp      336413   \n",
       "1            9000002                    Boeing Co      336413   \n",
       "2            9000003        Raytheon Technologies      334111   \n",
       "3            9000004  LOCKHEED MARTIN CORPORATION      336413   \n",
       "4            9000005               BOEING COMPANY      336413   \n",
       "\n",
       "   product_or_service_code action_date  dollar_obligated  \\\n",
       "0                     1510  2021-01-10           9500000   \n",
       "1                     1510  2021-07-20           8400000   \n",
       "2                     1510  2022-02-05           2500000   \n",
       "3                     1510  2022-11-30          12300000   \n",
       "4                     1510  2023-03-12           7800000   \n",
       "\n",
       "  place_of_performance_city place_of_performance_state  \\\n",
       "0                Fort Worth                         TX   \n",
       "1                Long Beach                         CA   \n",
       "2                    Tucson                         AZ   \n",
       "3                Fort Worth                         TX   \n",
       "4                 San Diego                         CA   \n",
       "\n",
       "  place_of_performance_country  \n",
       "0                          USA  \n",
       "1                          USA  \n",
       "2                          USA  \n",
       "3                          USA  \n",
       "4                          USA  "
      ]
     },
     "execution_count": 4,
     "metadata": {},
     "output_type": "execute_result"
    }
   ],
   "source": [
    "# Locate or create raw CSV\n",
    "ROOT = find_project_root(Path.cwd())\n",
    "raw_dir = ROOT / \"data\" / \"raw\"\n",
    "proc_dir = ROOT / \"data\" / \"processed\"\n",
    "ensure_dir(proc_dir)\n",
    "\n",
    "csv_path = raw_dir / \"fpds_contracts.csv\"\n",
    "if not csv_path.exists():\n",
    "    \n",
    "    raw_dir.mkdir(parents=True, exist_ok=True)\n",
    "    csv_path.write_text(\n",
    "        \"contract_award_id,vendor_name,naics_code,product_or_service_code,action_date,dollar_obligated,place_of_performance_city,place_of_performance_state,place_of_performance_country\\n\"\n",
    "        \"1234567,Lockheed Martin Corp,336413,1510,2021-07-15,12000000,Fort Worth,TX,USA\\n\"\n",
    "        \"1234568,LOCKHEED MARTIN CORPORATION,336413,1510,07/15/2021,12000000.00,FORT WORTH,Texas,USA\\n\"\n",
    "        \"1234569,Boeing Co,'3364-13',1510,2021-07-XX,8000000,,CA,USA\\n\",\n",
    "        encoding=\"utf-8\"\n",
    "    )\n",
    "    print(f\"[INFO] Created sample at {csv_path}\")\n",
    "else:\n",
    "    print(f\"[INFO] Using CSV at {csv_path}\")\n",
    "fpds = pd.read_csv(csv_path)\n",
    "fpds.head()"
   ]
  },
  {
   "cell_type": "code",
   "execution_count": 5,
   "id": "04fd9a99",
   "metadata": {},
   "outputs": [
    {
     "data": {
      "application/vnd.microsoft.datawrangler.viewer.v0+json": {
       "columns": [
        {
         "name": "index",
         "rawType": "int64",
         "type": "integer"
        },
        {
         "name": "contract_award_id",
         "rawType": "int64",
         "type": "integer"
        },
        {
         "name": "vendor_name",
         "rawType": "object",
         "type": "string"
        },
        {
         "name": "naics_code",
         "rawType": "int64",
         "type": "integer"
        },
        {
         "name": "product_or_service_code",
         "rawType": "int64",
         "type": "integer"
        },
        {
         "name": "action_date",
         "rawType": "datetime64[ns]",
         "type": "datetime"
        },
        {
         "name": "dollar_obligated",
         "rawType": "int64",
         "type": "integer"
        },
        {
         "name": "place_of_performance_city",
         "rawType": "object",
         "type": "string"
        },
        {
         "name": "place_of_performance_state",
         "rawType": "object",
         "type": "string"
        },
        {
         "name": "place_of_performance_country",
         "rawType": "object",
         "type": "string"
        },
        {
         "name": "vendor_group",
         "rawType": "object",
         "type": "string"
        },
        {
         "name": "naics_code_clean",
         "rawType": "object",
         "type": "string"
        },
        {
         "name": "naics_sector2",
         "rawType": "object",
         "type": "string"
        },
        {
         "name": "year",
         "rawType": "int32",
         "type": "integer"
        },
        {
         "name": "month",
         "rawType": "int32",
         "type": "integer"
        },
        {
         "name": "year_month",
         "rawType": "object",
         "type": "string"
        }
       ],
       "ref": "5f3184af-87d7-4828-9eb4-25eb9e45cc4a",
       "rows": [
        [
         "0",
         "9000001",
         "Lockheed Martin Corp",
         "336413",
         "1510",
         "2021-01-10 00:00:00",
         "9500000",
         "Fort Worth",
         "TX",
         "USA",
         "LOCKHEED MARTIN",
         "336413",
         "33",
         "2021",
         "1",
         "2021-01"
        ],
        [
         "1",
         "9000002",
         "Boeing Co",
         "336413",
         "1510",
         "2021-07-20 00:00:00",
         "8400000",
         "Long Beach",
         "CA",
         "USA",
         "BOEING",
         "336413",
         "33",
         "2021",
         "7",
         "2021-07"
        ],
        [
         "2",
         "9000003",
         "Raytheon Technologies",
         "334111",
         "1510",
         "2022-02-05 00:00:00",
         "2500000",
         "Tucson",
         "AZ",
         "USA",
         "RAYTHEON",
         "334111",
         "33",
         "2022",
         "2",
         "2022-02"
        ],
        [
         "3",
         "9000004",
         "LOCKHEED MARTIN CORPORATION",
         "336413",
         "1510",
         "2022-11-30 00:00:00",
         "12300000",
         "Fort Worth",
         "TX",
         "USA",
         "LOCKHEED MARTIN",
         "336413",
         "33",
         "2022",
         "11",
         "2022-11"
        ],
        [
         "4",
         "9000005",
         "BOEING COMPANY",
         "336413",
         "1510",
         "2023-03-12 00:00:00",
         "7800000",
         "San Diego",
         "CA",
         "USA",
         "BOEING COMPANY",
         "336413",
         "33",
         "2023",
         "3",
         "2023-03"
        ]
       ],
       "shape": {
        "columns": 15,
        "rows": 5
       }
      },
      "text/html": [
       "<div>\n",
       "<style scoped>\n",
       "    .dataframe tbody tr th:only-of-type {\n",
       "        vertical-align: middle;\n",
       "    }\n",
       "\n",
       "    .dataframe tbody tr th {\n",
       "        vertical-align: top;\n",
       "    }\n",
       "\n",
       "    .dataframe thead th {\n",
       "        text-align: right;\n",
       "    }\n",
       "</style>\n",
       "<table border=\"1\" class=\"dataframe\">\n",
       "  <thead>\n",
       "    <tr style=\"text-align: right;\">\n",
       "      <th></th>\n",
       "      <th>contract_award_id</th>\n",
       "      <th>vendor_name</th>\n",
       "      <th>naics_code</th>\n",
       "      <th>product_or_service_code</th>\n",
       "      <th>action_date</th>\n",
       "      <th>dollar_obligated</th>\n",
       "      <th>place_of_performance_city</th>\n",
       "      <th>place_of_performance_state</th>\n",
       "      <th>place_of_performance_country</th>\n",
       "      <th>vendor_group</th>\n",
       "      <th>naics_code_clean</th>\n",
       "      <th>naics_sector2</th>\n",
       "      <th>year</th>\n",
       "      <th>month</th>\n",
       "      <th>year_month</th>\n",
       "    </tr>\n",
       "  </thead>\n",
       "  <tbody>\n",
       "    <tr>\n",
       "      <th>0</th>\n",
       "      <td>9000001</td>\n",
       "      <td>Lockheed Martin Corp</td>\n",
       "      <td>336413</td>\n",
       "      <td>1510</td>\n",
       "      <td>2021-01-10</td>\n",
       "      <td>9500000</td>\n",
       "      <td>Fort Worth</td>\n",
       "      <td>TX</td>\n",
       "      <td>USA</td>\n",
       "      <td>LOCKHEED MARTIN</td>\n",
       "      <td>336413</td>\n",
       "      <td>33</td>\n",
       "      <td>2021</td>\n",
       "      <td>1</td>\n",
       "      <td>2021-01</td>\n",
       "    </tr>\n",
       "    <tr>\n",
       "      <th>1</th>\n",
       "      <td>9000002</td>\n",
       "      <td>Boeing Co</td>\n",
       "      <td>336413</td>\n",
       "      <td>1510</td>\n",
       "      <td>2021-07-20</td>\n",
       "      <td>8400000</td>\n",
       "      <td>Long Beach</td>\n",
       "      <td>CA</td>\n",
       "      <td>USA</td>\n",
       "      <td>BOEING</td>\n",
       "      <td>336413</td>\n",
       "      <td>33</td>\n",
       "      <td>2021</td>\n",
       "      <td>7</td>\n",
       "      <td>2021-07</td>\n",
       "    </tr>\n",
       "    <tr>\n",
       "      <th>2</th>\n",
       "      <td>9000003</td>\n",
       "      <td>Raytheon Technologies</td>\n",
       "      <td>334111</td>\n",
       "      <td>1510</td>\n",
       "      <td>2022-02-05</td>\n",
       "      <td>2500000</td>\n",
       "      <td>Tucson</td>\n",
       "      <td>AZ</td>\n",
       "      <td>USA</td>\n",
       "      <td>RAYTHEON</td>\n",
       "      <td>334111</td>\n",
       "      <td>33</td>\n",
       "      <td>2022</td>\n",
       "      <td>2</td>\n",
       "      <td>2022-02</td>\n",
       "    </tr>\n",
       "    <tr>\n",
       "      <th>3</th>\n",
       "      <td>9000004</td>\n",
       "      <td>LOCKHEED MARTIN CORPORATION</td>\n",
       "      <td>336413</td>\n",
       "      <td>1510</td>\n",
       "      <td>2022-11-30</td>\n",
       "      <td>12300000</td>\n",
       "      <td>Fort Worth</td>\n",
       "      <td>TX</td>\n",
       "      <td>USA</td>\n",
       "      <td>LOCKHEED MARTIN</td>\n",
       "      <td>336413</td>\n",
       "      <td>33</td>\n",
       "      <td>2022</td>\n",
       "      <td>11</td>\n",
       "      <td>2022-11</td>\n",
       "    </tr>\n",
       "    <tr>\n",
       "      <th>4</th>\n",
       "      <td>9000005</td>\n",
       "      <td>BOEING COMPANY</td>\n",
       "      <td>336413</td>\n",
       "      <td>1510</td>\n",
       "      <td>2023-03-12</td>\n",
       "      <td>7800000</td>\n",
       "      <td>San Diego</td>\n",
       "      <td>CA</td>\n",
       "      <td>USA</td>\n",
       "      <td>BOEING COMPANY</td>\n",
       "      <td>336413</td>\n",
       "      <td>33</td>\n",
       "      <td>2023</td>\n",
       "      <td>3</td>\n",
       "      <td>2023-03</td>\n",
       "    </tr>\n",
       "  </tbody>\n",
       "</table>\n",
       "</div>"
      ],
      "text/plain": [
       "   contract_award_id                  vendor_name  naics_code  \\\n",
       "0            9000001         Lockheed Martin Corp      336413   \n",
       "1            9000002                    Boeing Co      336413   \n",
       "2            9000003        Raytheon Technologies      334111   \n",
       "3            9000004  LOCKHEED MARTIN CORPORATION      336413   \n",
       "4            9000005               BOEING COMPANY      336413   \n",
       "\n",
       "   product_or_service_code action_date  dollar_obligated  \\\n",
       "0                     1510  2021-01-10           9500000   \n",
       "1                     1510  2021-07-20           8400000   \n",
       "2                     1510  2022-02-05           2500000   \n",
       "3                     1510  2022-11-30          12300000   \n",
       "4                     1510  2023-03-12           7800000   \n",
       "\n",
       "  place_of_performance_city place_of_performance_state  \\\n",
       "0                Fort Worth                         TX   \n",
       "1                Long Beach                         CA   \n",
       "2                    Tucson                         AZ   \n",
       "3                Fort Worth                         TX   \n",
       "4                 San Diego                         CA   \n",
       "\n",
       "  place_of_performance_country     vendor_group naics_code_clean  \\\n",
       "0                          USA  LOCKHEED MARTIN           336413   \n",
       "1                          USA           BOEING           336413   \n",
       "2                          USA         RAYTHEON           334111   \n",
       "3                          USA  LOCKHEED MARTIN           336413   \n",
       "4                          USA   BOEING COMPANY           336413   \n",
       "\n",
       "  naics_sector2  year  month year_month  \n",
       "0            33  2021      1    2021-01  \n",
       "1            33  2021      7    2021-07  \n",
       "2            33  2022      2    2022-02  \n",
       "3            33  2022     11    2022-11  \n",
       "4            33  2023      3    2023-03  "
      ]
     },
     "execution_count": 5,
     "metadata": {},
     "output_type": "execute_result"
    }
   ],
   "source": [
    "# Standardize columns\n",
    "fpds.columns = fpds.columns.str.strip().str.lower().str.replace(\" \", \"_\")\n",
    "\n",
    "# Parse dates robustly\n",
    "fpds[\"action_date\"] = pd.to_datetime(fpds.get(\"action_date\"), errors=\"coerce\")\n",
    "\n",
    "# Numeric conversion for dollar_obligated\n",
    "if \"dollar_obligated\" in fpds.columns:\n",
    "    fpds[\"dollar_obligated\"] = (\n",
    "        fpds[\"dollar_obligated\"].astype(str).str.replace(\",\", \"\", regex=False).str.strip().replace({\"\": np.nan})\n",
    "    )\n",
    "    fpds[\"dollar_obligated\"] = pd.to_numeric(fpds[\"dollar_obligated\"], errors=\"coerce\")\n",
    "\n",
    "# Vendor normalization\n",
    "fpds[\"vendor_group\"] = fpds.get(\"vendor_name\",\"\").apply(simple_vendor_normalize)\n",
    "\n",
    "# Clean NAICS and derive sector\n",
    "fpds[\"naics_code_clean\"] = fpds.get(\"naics_code\",\"\").apply(clean_naics)\n",
    "fpds[\"naics_sector2\"] = fpds[\"naics_code_clean\"].str[:2]\n",
    "\n",
    "# State formatting\n",
    "if \"place_of_performance_state\" in fpds.columns:\n",
    "    fpds[\"place_of_performance_state\"] = fpds[\"place_of_performance_state\"].astype(str).str.upper().str.strip()\n",
    "\n",
    "# Date parts\n",
    "fpds[\"year\"] = fpds[\"action_date\"].dt.year\n",
    "fpds[\"month\"] = fpds[\"action_date\"].dt.month\n",
    "fpds[\"year_month\"] = fpds[\"action_date\"].dt.to_period(\"M\").astype(str)\n",
    "\n",
    "fpds.head()"
   ]
  },
  {
   "cell_type": "code",
   "execution_count": 6,
   "id": "2cc76de7",
   "metadata": {},
   "outputs": [
    {
     "name": "stdout",
     "output_type": "stream",
     "text": [
      "[OK] Wrote c:\\Users\\taylo\\OneDrive\\Desktop\\DoD-SupplyChain-Disruption-Complete - Copy\\data\\processed\\fpds_cleaned.csv\n"
     ]
    }
   ],
   "source": [
    "\n",
    "out_path = proc_dir / \"fpds_cleaned.csv\"\n",
    "fpds.to_csv(out_path, index=False)\n",
    "print(f\"[OK] Wrote {out_path}\")"
   ]
  }
 ],
 "metadata": {
  "kernelspec": {
   "display_name": "Python 3",
   "language": "python",
   "name": "python3"
  },
  "language_info": {
   "codemirror_mode": {
    "name": "ipython",
    "version": 3
   },
   "file_extension": ".py",
   "mimetype": "text/x-python",
   "name": "python",
   "nbconvert_exporter": "python",
   "pygments_lexer": "ipython3",
   "version": "3.13.5"
  }
 },
 "nbformat": 4,
 "nbformat_minor": 5
}
